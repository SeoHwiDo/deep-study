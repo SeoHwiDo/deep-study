{
 "cells": [
  {
   "cell_type": "code",
   "execution_count": 83,
   "metadata": {},
   "outputs": [],
   "source": [
    "import torch as t\n"
   ]
  },
  {
   "cell_type": "code",
   "execution_count": 84,
   "metadata": {},
   "outputs": [],
   "source": [
    "x_train=t.FloatTensor([[1],[2],[3]])\n",
    "y_train=t.FloatTensor([[1],[2],[3]])"
   ]
  },
  {
   "cell_type": "code",
   "execution_count": 85,
   "metadata": {},
   "outputs": [],
   "source": [
    "W=t.zeros(1,requires_grad=True)\n",
    "optimizer=optim.SGD([W],lr=0.15)"
   ]
  },
  {
   "cell_type": "code",
   "execution_count": 86,
   "metadata": {},
   "outputs": [
    {
     "name": "stdout",
     "output_type": "stream",
     "text": [
      "Epoch    0/10 W:0.000,Cost:4.666667\n",
      "Epoch    1/10 W:1.400,Cost:0.746667\n",
      "Epoch    2/10 W:0.840,Cost:0.119467\n",
      "Epoch    3/10 W:1.064,Cost:0.019115\n",
      "Epoch    4/10 W:0.974,Cost:0.003058\n",
      "Epoch    5/10 W:1.010,Cost:0.000489\n",
      "Epoch    6/10 W:0.996,Cost:0.000078\n",
      "Epoch    7/10 W:1.002,Cost:0.000013\n",
      "Epoch    8/10 W:0.999,Cost:0.000002\n",
      "Epoch    9/10 W:1.000,Cost:0.000000\n",
      "Epoch   10/10 W:1.000,Cost:0.000000\n"
     ]
    }
   ],
   "source": [
    "nb_epochs=10\n",
    "for epoch in range(nb_epochs+1):\n",
    "    h=x_train*W\n",
    "    \n",
    "    cost=t.mean((h-y_train)**2)\n",
    "    \n",
    "    \n",
    "    print('Epoch {:4d}/{} W:{:.3f},Cost:{:.6f}'.format(epoch,nb_epochs,W.item(),cost.item()))\n",
    "\n",
    "    optimizer.zero_grad()\n",
    "    cost.backward()\n",
    "    optimizer.step()"
   ]
  },
  {
   "cell_type": "code",
   "execution_count": null,
   "metadata": {},
   "outputs": [],
   "source": []
  }
 ],
 "metadata": {
  "kernelspec": {
   "display_name": "Python 3",
   "language": "python",
   "name": "python3"
  },
  "language_info": {
   "codemirror_mode": {
    "name": "ipython",
    "version": 3
   },
   "file_extension": ".py",
   "mimetype": "text/x-python",
   "name": "python",
   "nbconvert_exporter": "python",
   "pygments_lexer": "ipython3",
   "version": "3.7.6"
  }
 },
 "nbformat": 4,
 "nbformat_minor": 4
}
